{
 "cells": [
  {
   "cell_type": "markdown",
   "metadata": {},
   "source": [
    "# Import Libraries\n",
    "In this section, we import the necessary libraries for data manipulation, visualization, and preprocessing."
   ]
  },
  {
   "cell_type": "code",
   "execution_count": 7,
   "metadata": {},
   "outputs": [],
   "source": [
    "\n",
    "import pandas as pd\n",
    "import numpy as np\n",
    "import matplotlib.pyplot as plt\n",
    "import seaborn as sns\n",
    "from sklearn.impute import KNNImputer\n",
    "from sklearn.preprocessing import StandardScaler\n",
    "from sklearn.preprocessing import MinMaxScaler\n",
    "\n",
    "\n",
    "# Load the data\n",
    "df = pd.read_csv('data.csv')"
   ]
  },
  {
   "cell_type": "markdown",
   "metadata": {},
   "source": [
    "# Drop Unnecessary Columns\n",
    "Here, we drop the 'id' column as it is not needed for our analysis."
   ]
  },
  {
   "cell_type": "code",
   "execution_count": 8,
   "metadata": {},
   "outputs": [],
   "source": [
    "df = df.drop(columns=['id'])"
   ]
  },
  {
   "cell_type": "markdown",
   "metadata": {},
   "source": [
    "# Encode Categorical Variables\n",
    "We perform one-hot encoding on categorical columns with more than 2 classes and convert binary categorical columns to numerical values."
   ]
  },
  {
   "cell_type": "code",
   "execution_count": 9,
   "metadata": {},
   "outputs": [],
   "source": [
    "# Perform one-hot encoding on categorical columns with more than 2 classes\n",
    "df_encoded = pd.get_dummies(df, columns=['work_type', 'smoking_status'], dtype=int)\n",
    "\n",
    "# Convert gender to is_male\n",
    "df_encoded['is_male'] = df_encoded['gender'].apply(lambda x: 1 if x == 'Male' else 0)\n",
    "\n",
    "# Encode Residence_type\n",
    "df_encoded['Residence_type'] = df_encoded['Residence_type'].apply(lambda x: 1 if x == 'Urban' else 0)\n",
    "\n",
    "# Convert ever_married to binary\n",
    "df_encoded['ever_married'] = df_encoded['ever_married'].apply(lambda x: 1 if x == 'Yes' else 0)\n",
    "\n",
    "# Drop the original gender column\n",
    "df_encoded = df_encoded.drop(columns=['gender'])"
   ]
  },
  {
   "cell_type": "markdown",
   "metadata": {},
   "source": [
    "# Handle Missing Values\n",
    "We use KNN Imputer to fill in missing values in the dataset."
   ]
  },
  {
   "cell_type": "code",
   "execution_count": 10,
   "metadata": {},
   "outputs": [],
   "source": [
    "# KKN Imputer initialization\n",
    "imputer = KNNImputer(n_neighbors=5)\n",
    "\n",
    "# Apply the imputer to the data\n",
    "df_encoded = pd.DataFrame(imputer.fit_transform(df_encoded), columns=df_encoded.columns)"
   ]
  },
  {
   "cell_type": "markdown",
   "metadata": {},
   "source": [
    "# Scale Numerical Features\n",
    "We apply MinMaxScaler to scale the numerical features to a range between 0 and 1."
   ]
  },
  {
   "cell_type": "code",
   "execution_count": 11,
   "metadata": {},
   "outputs": [],
   "source": [
    "\n",
    "\n",
    "columns_to_scale = ['age', 'avg_glucose_level', 'bmi']\n",
    "\n",
    "# Initialize the MinMaxScaler\n",
    "min_max_scaler = MinMaxScaler()\n",
    "\n",
    "# Apply the MinMaxScaler to the selected columns\n",
    "df_encoded[columns_to_scale] = min_max_scaler.fit_transform(df_encoded[columns_to_scale])"
   ]
  },
  {
   "cell_type": "markdown",
   "metadata": {},
   "source": [
    "# Save Original Feature Names\n",
    "We save the original feature names for reference."
   ]
  },
  {
   "cell_type": "code",
   "execution_count": null,
   "metadata": {},
   "outputs": [],
   "source": [
    "# Save the original feature names\n",
    "original_feature_names = df_encoded.columns.tolist()"
   ]
  },
  {
   "cell_type": "markdown",
   "metadata": {},
   "source": [
    "# Rename Features\n",
    "We rename the features to x1, x2, ..., and the target to y for simplicity."
   ]
  },
  {
   "cell_type": "code",
   "execution_count": 14,
   "metadata": {},
   "outputs": [],
   "source": [
    "# Rename the features to x1, x2, ..., and the target to y\n",
    "df_encoded.columns = ['x' + str(i+1) if col != 'stroke' else 'y' for i, col in enumerate(df_encoded.columns)]"
   ]
  },
  {
   "cell_type": "markdown",
   "metadata": {},
   "source": [
    "# Save Cleaned Data\n",
    "Finally, we save the cleaned and processed data to a CSV file."
   ]
  },
  {
   "cell_type": "code",
   "execution_count": 15,
   "metadata": {},
   "outputs": [],
   "source": [
    "df_encoded.to_csv('clean_data.csv', index=False)"
   ]
  }
 ],
 "metadata": {
  "kernelspec": {
   "display_name": "Python 3",
   "language": "python",
   "name": "python3"
  },
  "language_info": {
   "codemirror_mode": {
    "name": "ipython",
    "version": 3
   },
   "file_extension": ".py",
   "mimetype": "text/x-python",
   "name": "python",
   "nbconvert_exporter": "python",
   "pygments_lexer": "ipython3",
   "version": "3.12.6"
  }
 },
 "nbformat": 4,
 "nbformat_minor": 2
}
