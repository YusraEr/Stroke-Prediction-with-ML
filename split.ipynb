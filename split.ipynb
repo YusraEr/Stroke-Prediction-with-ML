{
 "cells": [
  {
   "cell_type": "markdown",
   "metadata": {},
   "source": [
    "# Data Splitting\n",
    "This notebook demonstrates how to split the dataset into training and testing sets."
   ]
  },
  {
   "cell_type": "code",
   "execution_count": 31,
   "metadata": {},
   "outputs": [],
   "source": [
    "import pandas as pd\n",
    "from sklearn.model_selection import train_test_split\n",
    "\n",
    "\n",
    "# Read the CSV file\n",
    "data = pd.read_csv('clean_data.csv')"
   ]
  },
  {
   "cell_type": "markdown",
   "metadata": {},
   "source": [
    "## Filter Stroke and Non-Stroke Cases\n",
    "Separate the data into stroke and non-stroke cases."
   ]
  },
  {
   "cell_type": "code",
   "execution_count": 32,
   "metadata": {},
   "outputs": [],
   "source": [
    "# Filter stroke and non-stroke cases\n",
    "stroke_cases = data[data['y'] == 1]\n",
    "non_stroke_cases = data[data['y'] == 0]\n",
    "\n",
    "# Sample 124 cases from each\n",
    "stroke_sample = stroke_cases.sample(n=124, random_state=42)\n",
    "non_stroke_sample = non_stroke_cases.sample(n=124, random_state=42)\n",
    "\n",
    "# Combine the samples to create the testing set\n",
    "testing_data = pd.concat([stroke_sample, non_stroke_sample])\n",
    "\n",
    "# Shuffle the testing data\n",
    "testing_data = testing_data.sample(frac=1, random_state=42)\n",
    "# Define training data as all data except the testing data\n",
    "training_data = data[~data.index.isin(testing_data.index)]\n",
    "\n"
   ]
  },
  {
   "cell_type": "markdown",
   "metadata": {},
   "source": [
    "## Save the Data\n",
    "Save the training and testing data into separate CSV files."
   ]
  },
  {
   "cell_type": "code",
   "execution_count": 34,
   "metadata": {},
   "outputs": [],
   "source": [
    "# Simpan data training ke dalam file CSV\n",
    "training_data.to_csv('training_data.csv', index=False)\n",
    "\n",
    "# Simpan data testing ke dalam file CSV\n",
    "testing_data.to_csv('testing_data.csv', index=False)"
   ]
  }
 ],
 "metadata": {
  "kernelspec": {
   "display_name": "Python 3",
   "language": "python",
   "name": "python3"
  },
  "language_info": {
   "codemirror_mode": {
    "name": "ipython",
    "version": 3
   },
   "file_extension": ".py",
   "mimetype": "text/x-python",
   "name": "python",
   "nbconvert_exporter": "python",
   "pygments_lexer": "ipython3",
   "version": "3.12.6"
  }
 },
 "nbformat": 4,
 "nbformat_minor": 2
}
